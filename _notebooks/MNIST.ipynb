{
 "cells": [
  {
   "cell_type": "markdown",
   "id": "bc7c3c3c",
   "metadata": {},
   "source": [
    "# MNIST\n",
    "\n",
    "The *Modified National Institute of Standards and Technology* **(MNIST)** database is a large collection of images. Each image consists of 28x28 pixels and depicts a single handwritten digit."
   ]
  },
  {
   "cell_type": "code",
   "execution_count": 3,
   "id": "0b4d0001",
   "metadata": {},
   "outputs": [],
   "source": [
    ":load ../src/Linear\n",
    ":load ../src/MNIST\n",
    "\n",
    "import MNIST"
   ]
  },
  {
   "cell_type": "code",
   "execution_count": 4,
   "id": "cf48121f",
   "metadata": {},
   "outputs": [],
   "source": [
    "let fp = \"../_datasets/mnist/t10k-images-idx3-ubyte\"\n",
    "let testString = MNIST.loadTrainingData"
   ]
  },
  {
   "cell_type": "code",
   "execution_count": 7,
   "id": "3e260826",
   "metadata": {
    "scrolled": true
   },
   "outputs": [
    {
     "ename": "",
     "evalue": "",
     "output_type": "error",
     "traceback": [
      "<interactive>:1:10: error: [GHC-83865]\n    • Couldn't match type: String -> IO String\n                     with: String\n      Expected: String\n        Actual: String -> IO String\n    • Probable cause: ‘testString’ is applied to too few arguments\n      In the first argument of ‘putStrLn’, namely ‘testString’\n      In the expression: putStrLn testString\n      In an equation for ‘it’: it = putStrLn testString"
     ]
    }
   ],
   "source": [
    "putStrLn testString"
   ]
  },
  {
   "cell_type": "code",
   "execution_count": null,
   "id": "5a8f0156",
   "metadata": {},
   "outputs": [],
   "source": []
  }
 ],
 "metadata": {
  "kernelspec": {
   "display_name": "Haskell",
   "language": "haskell",
   "name": "haskell"
  },
  "language_info": {
   "codemirror_mode": "ihaskell",
   "file_extension": ".hs",
   "mimetype": "text/x-haskell",
   "name": "haskell",
   "pygments_lexer": "Haskell",
   "version": "9.6.3"
  }
 },
 "nbformat": 4,
 "nbformat_minor": 5
}
