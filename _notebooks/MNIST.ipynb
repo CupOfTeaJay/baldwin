{
 "cells": [
  {
   "cell_type": "markdown",
   "id": "bc7c3c3c",
   "metadata": {},
   "source": [
    "# MNIST\n",
    "\n",
    "The *Modified National Institute of Standards and Technology* **(MNIST)** database is a large collection of images. Each image consists of 28x28 pixels and depicts a single handwritten digit."
   ]
  },
  {
   "cell_type": "markdown",
   "id": "bbeeb636",
   "metadata": {},
   "source": [
    "## Loading the Data"
   ]
  },
  {
   "cell_type": "code",
   "execution_count": 20,
   "id": "0b4d0001",
   "metadata": {
    "scrolled": false
   },
   "outputs": [],
   "source": [
    ":load ../src/Linear\n",
    ":load ../src/MNIST\n",
    "\n",
    "import qualified MNIST\n",
    "\n",
    "let pathToData = \"../_datasets/MNIST\"\n",
    "\n",
    "loadedTrainData <- MNIST.loadTrainData pathToData\n",
    "let (trainImages, trainLabels) = loadedTrainData\n",
    "\n",
    "loadedTestData <- MNIST.loadTestData pathToData\n",
    "let (testImages, testLabels) = loadedTestData"
   ]
  },
  {
   "cell_type": "markdown",
   "id": "f4297d3a",
   "metadata": {},
   "source": [
    "## First Three Train Images"
   ]
  },
  {
   "cell_type": "code",
   "execution_count": 21,
   "id": "59a88926",
   "metadata": {},
   "outputs": [
    {
     "data": {
      "text/plain": [
       "Label: 5\n",
       "                            \n",
       "                            \n",
       "                            \n",
       "                            \n",
       "                            \n",
       "            ************    \n",
       "        ****************    \n",
       "       ****************     \n",
       "       ***********          \n",
       "        ******* **          \n",
       "         *****              \n",
       "           ****             \n",
       "           ****             \n",
       "            ******          \n",
       "             ******         \n",
       "              ******        \n",
       "               *****        \n",
       "                 ****       \n",
       "              *******       \n",
       "            ********        \n",
       "          *********         \n",
       "        **********          \n",
       "      **********            \n",
       "    **********              \n",
       "    ********"
      ]
     },
     "metadata": {},
     "output_type": "display_data"
    },
    {
     "data": {
      "text/plain": [
       "Label: 0\n",
       "                            \n",
       "                            \n",
       "                            \n",
       "                            \n",
       "               *****        \n",
       "              ******        \n",
       "             *********      \n",
       "           ***********      \n",
       "           ***********      \n",
       "          ************      \n",
       "         *********  ***     \n",
       "        ******      ***     \n",
       "       *******      ***     \n",
       "       ****         ***     \n",
       "       ***          ***     \n",
       "      ****          ***     \n",
       "      ****        *****     \n",
       "      ***        *****      \n",
       "      ***       ****        \n",
       "      ***      ****         \n",
       "      *************         \n",
       "      ***********           \n",
       "      *********             \n",
       "       *******"
      ]
     },
     "metadata": {},
     "output_type": "display_data"
    },
    {
     "data": {
      "text/plain": [
       "Label: 4\n",
       "                            \n",
       "                            \n",
       "                            \n",
       "                            \n",
       "                            \n",
       "                    ***     \n",
       "    **              ***     \n",
       "    **             ****     \n",
       "    **             ***      \n",
       "    **             ***      \n",
       "   ***             ***      \n",
       "   ***            ****      \n",
       "   ***            ****      \n",
       "   ***         ******       \n",
       "   ***   ************       \n",
       "   *****************        \n",
       "    ********     ***        \n",
       "                 ***        \n",
       "                 ***        \n",
       "                 ***        \n",
       "                 ***        \n",
       "                 ***        \n",
       "                 ***        \n",
       "                 ***        \n",
       "                 ***"
      ]
     },
     "metadata": {},
     "output_type": "display_data"
    }
   ],
   "source": [
    "displayData trainImages trainLabels 0\n",
    "displayData trainImages trainLabels 1\n",
    "displayData trainImages trainLabels 2"
   ]
  },
  {
   "cell_type": "markdown",
   "id": "289beb17",
   "metadata": {},
   "source": [
    "## First Three Test Images"
   ]
  },
  {
   "cell_type": "code",
   "execution_count": 22,
   "id": "ab66cc60",
   "metadata": {},
   "outputs": [
    {
     "data": {
      "text/plain": [
       "Label: 7\n",
       "                            \n",
       "                            \n",
       "                            \n",
       "                            \n",
       "                            \n",
       "                            \n",
       "                            \n",
       "      ******                \n",
       "      ****************      \n",
       "      ****************      \n",
       "           ***********      \n",
       "                  ****      \n",
       "                 ****       \n",
       "                 ****       \n",
       "                ****        \n",
       "                ****        \n",
       "               ****         \n",
       "               ***          \n",
       "              ****          \n",
       "             ****           \n",
       "            *****           \n",
       "            ****            \n",
       "           *****            \n",
       "           ****             \n",
       "          *****             \n",
       "          *****             \n",
       "          ****"
      ]
     },
     "metadata": {},
     "output_type": "display_data"
    },
    {
     "data": {
      "text/plain": [
       "Label: 2\n",
       "                            \n",
       "                            \n",
       "                            \n",
       "          *******           \n",
       "         *********          \n",
       "        **********          \n",
       "       ****** ****          \n",
       "       ****   ****          \n",
       "        **    ****          \n",
       "             *****          \n",
       "            *****           \n",
       "            ****            \n",
       "           *****            \n",
       "          *****             \n",
       "          ****              \n",
       "         *****              \n",
       "        *****               \n",
       "        *****               \n",
       "        ****                \n",
       "        ********* ********* \n",
       "        ******************* \n",
       "        ******************* \n",
       "         ************"
      ]
     },
     "metadata": {},
     "output_type": "display_data"
    },
    {
     "data": {
      "text/plain": [
       "Label: 1\n",
       "                            \n",
       "                            \n",
       "                            \n",
       "                            \n",
       "                ***         \n",
       "                ***         \n",
       "                **          \n",
       "               ***          \n",
       "               ***          \n",
       "               ***          \n",
       "              ***           \n",
       "              ***           \n",
       "              ***           \n",
       "             ****           \n",
       "             ***            \n",
       "             ***            \n",
       "            ***             \n",
       "            ***             \n",
       "            ***             \n",
       "            ***             \n",
       "           ****             \n",
       "           ****             \n",
       "          ****              \n",
       "          ****"
      ]
     },
     "metadata": {},
     "output_type": "display_data"
    }
   ],
   "source": [
    "displayData testImages testLabels 0\n",
    "displayData testImages testLabels 1\n",
    "displayData testImages testLabels 2"
   ]
  }
 ],
 "metadata": {
  "kernelspec": {
   "display_name": "Haskell",
   "language": "haskell",
   "name": "haskell"
  },
  "language_info": {
   "codemirror_mode": "ihaskell",
   "file_extension": ".hs",
   "mimetype": "text/x-haskell",
   "name": "haskell",
   "pygments_lexer": "Haskell",
   "version": "9.6.3"
  }
 },
 "nbformat": 4,
 "nbformat_minor": 5
}
