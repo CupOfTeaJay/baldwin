{
 "cells": [
  {
   "cell_type": "code",
   "execution_count": 1,
   "id": "0db8056d",
   "metadata": {},
   "outputs": [
    {
     "data": {
      "text/plain": [
       "Testing Haskell Kernel..."
      ]
     },
     "metadata": {},
     "output_type": "display_data"
    }
   ],
   "source": [
    "putStrLn \"Testing Haskell Kernel...\""
   ]
  }
 ],
 "metadata": {
  "kernelspec": {
   "display_name": "Haskell",
   "language": "haskell",
   "name": "haskell"
  },
  "language_info": {
   "codemirror_mode": "ihaskell",
   "file_extension": ".hs",
   "mimetype": "text/x-haskell",
   "name": "haskell",
   "pygments_lexer": "Haskell",
   "version": "9.6.3"
  }
 },
 "nbformat": 4,
 "nbformat_minor": 5
}
